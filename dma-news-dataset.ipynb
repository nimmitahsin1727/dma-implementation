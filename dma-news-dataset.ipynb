{
 "cells": [
  {
   "attachments": {},
   "cell_type": "markdown",
   "metadata": {},
   "source": [
    "# DMA - 20 news dataset"
   ]
  },
  {
   "attachments": {},
   "cell_type": "markdown",
   "metadata": {
    "id": "UcOPoLTScu4V"
   },
   "source": [
    "## Importing libraries"
   ]
  },
  {
   "cell_type": "code",
   "execution_count": 19,
   "metadata": {},
   "outputs": [],
   "source": [
    "import numpy as np\n",
    "from sklearn.datasets import fetch_20newsgroups\n",
    "\n",
    "from model.dma import DMA"
   ]
  },
  {
   "attachments": {},
   "cell_type": "markdown",
   "metadata": {},
   "source": [
    "## Fetch news data"
   ]
  },
  {
   "cell_type": "code",
   "execution_count": 7,
   "metadata": {},
   "outputs": [],
   "source": [
    "categories = ['comp.graphics', 'rec.motorcycles', 'talk.politics.guns']"
   ]
  },
  {
   "cell_type": "code",
   "execution_count": 9,
   "metadata": {},
   "outputs": [],
   "source": [
    "newsgroups_train = fetch_20newsgroups(subset='train', categories=categories)"
   ]
  },
  {
   "cell_type": "code",
   "execution_count": 12,
   "metadata": {},
   "outputs": [
    {
     "data": {
      "text/plain": [
       "['comp.graphics', 'rec.motorcycles', 'talk.politics.guns']"
      ]
     },
     "execution_count": 12,
     "metadata": {},
     "output_type": "execute_result"
    }
   ],
   "source": [
    "newsgroups_train.target_names"
   ]
  },
  {
   "cell_type": "code",
   "execution_count": 13,
   "metadata": {},
   "outputs": [],
   "source": [
    "from sklearn.feature_extraction.text import CountVectorizer"
   ]
  },
  {
   "cell_type": "code",
   "execution_count": 14,
   "metadata": {},
   "outputs": [],
   "source": [
    "vectorizer = CountVectorizer(stop_words='english', max_features=5000)\n",
    "X = vectorizer.fit_transform(newsgroups_train.data)"
   ]
  },
  {
   "cell_type": "code",
   "execution_count": 34,
   "metadata": {},
   "outputs": [
    {
     "ename": "AttributeError",
     "evalue": "get_feature_names not found",
     "output_type": "error",
     "traceback": [
      "\u001b[1;31m---------------------------------------------------------------------------\u001b[0m",
      "\u001b[1;31mAttributeError\u001b[0m                            Traceback (most recent call last)",
      "Cell \u001b[1;32mIn[34], line 1\u001b[0m\n\u001b[1;32m----> 1\u001b[0m X\u001b[39m.\u001b[39;49mget_feature_names()\n",
      "File \u001b[1;32mc:\\Users\\Alam\\miniconda3\\envs\\lda-implementation\\lib\\site-packages\\scipy\\sparse\\_base.py:764\u001b[0m, in \u001b[0;36mspmatrix.__getattr__\u001b[1;34m(self, attr)\u001b[0m\n\u001b[0;32m    762\u001b[0m     \u001b[39mreturn\u001b[39;00m \u001b[39mself\u001b[39m\u001b[39m.\u001b[39mgetnnz()\n\u001b[0;32m    763\u001b[0m \u001b[39melse\u001b[39;00m:\n\u001b[1;32m--> 764\u001b[0m     \u001b[39mraise\u001b[39;00m \u001b[39mAttributeError\u001b[39;00m(attr \u001b[39m+\u001b[39m \u001b[39m\"\u001b[39m\u001b[39m not found\u001b[39m\u001b[39m\"\u001b[39m)\n",
      "\u001b[1;31mAttributeError\u001b[0m: get_feature_names not found"
     ]
    }
   ],
   "source": [
    "X.get_feature_names()"
   ]
  },
  {
   "cell_type": "code",
   "execution_count": 17,
   "metadata": {},
   "outputs": [],
   "source": [
    "K = 20  # number of topics\n",
    "alpha = 0.5  # hyperparameter for the document-topic distribution\n",
    "beta = 0.5  # hyperparameter for the topic-word distribution"
   ]
  },
  {
   "cell_type": "code",
   "execution_count": 21,
   "metadata": {},
   "outputs": [],
   "source": [
    "# Convert sparse matrix to numpy array\n",
    "X_array = X.toarray()"
   ]
  },
  {
   "cell_type": "code",
   "execution_count": 22,
   "metadata": {},
   "outputs": [],
   "source": [
    "dma = DMA(K, alpha, beta)\n",
    "dma.fit(X_array)"
   ]
  },
  {
   "cell_type": "code",
   "execution_count": 24,
   "metadata": {},
   "outputs": [],
   "source": [
    "# Use the DMA model to predict the topic distribution for each document\n",
    "p_z = dma.predict(X_array)"
   ]
  },
  {
   "cell_type": "code",
   "execution_count": 25,
   "metadata": {},
   "outputs": [
    {
     "name": "stdout",
     "output_type": "stream",
     "text": [
      "Document 1 - Predicted Topic Distribution: [9.99999835e-01 1.64903223e-07 8.26606473e-50 1.10090313e-29\n",
      " 1.28872832e-15 1.00087592e-45 3.16587680e-28 9.60996682e-30\n",
      " 1.98654119e-35 1.66990311e-27 4.04659886e-37 9.77501145e-23\n",
      " 2.70045974e-51 1.62902721e-28 5.67945129e-30 8.75881243e-25\n",
      " 9.19999168e-29 4.72925592e-18 6.95236925e-25 4.32850524e-18]\n",
      "Document 2 - Predicted Topic Distribution: [0. 0. 1. 0. 0. 0. 0. 0. 0. 0. 0. 0. 0. 0. 0. 0. 0. 0. 0. 0.]\n",
      "Document 3 - Predicted Topic Distribution: [2.01953835e-32 1.78010683e-38 8.78369441e-20 3.64176554e-33\n",
      " 9.13066229e-29 9.57760838e-38 2.01209483e-40 2.37994321e-42\n",
      " 5.12212849e-44 5.24925693e-35 1.00000000e+00 3.16672476e-38\n",
      " 4.52304833e-56 1.48698308e-37 5.03584143e-33 8.59708325e-37\n",
      " 4.73985897e-29 7.72880299e-26 1.50763909e-37 8.39057899e-36]\n",
      "Document 4 - Predicted Topic Distribution: [1.00000000e+00 6.36778158e-42 3.92789436e-93 2.34120190e-56\n",
      " 1.67481421e-53 1.74061229e-76 3.53507614e-68 4.59420559e-64\n",
      " 3.39872326e-81 4.63704021e-62 8.50191367e-88 5.38514634e-52\n",
      " 3.95422688e-84 5.07899910e-54 1.85424277e-50 2.50495225e-22\n",
      " 6.18052118e-58 7.40367221e-49 4.11057630e-50 1.27802213e-44]\n",
      "Document 5 - Predicted Topic Distribution: [3.60310511e-33 1.79207338e-27 3.60555859e-56 9.06000764e-17\n",
      " 1.00662299e-26 6.76428982e-51 5.65014492e-58 1.53182930e-43\n",
      " 1.69900960e-50 3.85140418e-36 1.00000000e+00 1.39061911e-45\n",
      " 1.43245829e-55 1.21306830e-20 7.93983350e-42 1.47412705e-40\n",
      " 9.75634611e-21 5.06621670e-28 2.29594861e-44 1.94556903e-36]\n"
     ]
    }
   ],
   "source": [
    "# Print the predicted topic distribution for each document\n",
    "for i in range(5):\n",
    "    print(f\"Document {i+1} - Predicted Topic Distribution: {p_z[i]}\")"
   ]
  },
  {
   "cell_type": "code",
   "execution_count": 26,
   "metadata": {},
   "outputs": [],
   "source": [
    "def display_topics(model, vocab, n_top_words):\n",
    "    for i, topic_dist in enumerate(model.phi):\n",
    "        topic_words = np.array(vocab)[np.argsort(topic_dist)][:-(n_top_words+1):-1]\n",
    "        print(f'Topic {i+1}: {\" \".join(topic_words)}')\n"
   ]
  },
  {
   "cell_type": "code",
   "execution_count": 38,
   "metadata": {},
   "outputs": [
    {
     "name": "stdout",
     "output_type": "stream",
     "text": [
      "Topic 1: com sun ca writes helmet lines article subject like east\n",
      "Topic 2: com bike dod edu organization subject article lines new writes\n",
      "Topic 3: file image jpeg files images color format gif bit program\n",
      "Topic 4: edu subject posting lines nntp organization host university article ca\n",
      "Topic 5: edu group graphics umich ch den p2 p3 ti newsgroup\n",
      "Topic 6: gun militia state law people firearms right control amendment weapons\n",
      "Topic 7: crime com study house handgun seattle vancouver att congress handguns\n",
      "Topic 8: 000 com gun colorado manes rate uk weaver year homicide\n",
      "Topic 9: 1993 apr 18 mil 00 run division 20 93 23\n",
      "Topic 10: edu police don gun know like semi safety cops auto\n",
      "Topic 11: edu lines subject organization graphics university 3d thanks version know\n",
      "Topic 12: edu fbi batf people com waco compound lines subject article\n",
      "Topic 13: data graphics ftp available pub use package sgi com processing\n",
      "Topic 14: edu com stratus writes cdt sw article lines organization subject\n",
      "Topic 15: edu david iastate don subject viking university utk utkvm1 veal\n",
      "Topic 16: just time like dog bike ride going right motorcycle know\n",
      "Topic 17: ___ uk subject organization lines bnr ca host posting nasa\n",
      "Topic 18: com edu writes article organization don subject lines just ibm\n",
      "Topic 19: gun guns people like com don think time public edu\n",
      "Topic 20: com points nec behanna lines nj columbia subject writes organization\n"
     ]
    }
   ],
   "source": [
    "display_topics(dma, vectorizer.get_feature_names_out(), n_top_words=10)"
   ]
  }
 ],
 "metadata": {
  "colab": {
   "collapsed_sections": [
    "UcOPoLTScu4V",
    "S_BBNjjzc4m5",
    "c0cAeBowGUVP"
   ],
   "provenance": []
  },
  "kernelspec": {
   "display_name": "lda-implementation",
   "language": "python",
   "name": "python3"
  },
  "language_info": {
   "codemirror_mode": {
    "name": "ipython",
    "version": 3
   },
   "file_extension": ".py",
   "mimetype": "text/x-python",
   "name": "python",
   "nbconvert_exporter": "python",
   "pygments_lexer": "ipython3",
   "version": "3.10.8"
  },
  "vscode": {
   "interpreter": {
    "hash": "1669881b8e0ee381f1d44208a6e6b4675430ed382f288976bd9acdbb8db18405"
   }
  }
 },
 "nbformat": 4,
 "nbformat_minor": 1
}
